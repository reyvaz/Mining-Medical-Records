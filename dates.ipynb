{
 "cells": [
  {
   "cell_type": "markdown",
   "metadata": {},
   "source": [
    "# Data Mining: Extracting Dates from Messy Medical Records"
   ]
  },
  {
   "cell_type": "markdown",
   "metadata": {},
   "source": [
    "Extracts dates from messy medical notes using regular expressions on Pandas\n",
    "\n",
    "Each data instance corresponds to a medical note containing a date written in one of many formats.\n",
    "\n",
    "Examples of date encoding variants in the data are:\n",
    "* 03/20/2009; 03/20/09; 3-20-09\n",
    "* Mar-20-2009; Mar 20, 2009; March 20, 2009;  Mar. 20, 2009; Mar 20 2009\n",
    "* 20 Mar 2009; 20 March 2009; 20 Mar. 2009; 20 March, 2009\n",
    "* 3/09, 2009\n",
    "\n",
    "Including some typos and other confounding errors/formats. "
   ]
  },
  {
   "cell_type": "code",
   "execution_count": 99,
   "metadata": {},
   "outputs": [],
   "source": [
    "import pandas as pd\n",
    "doc = []\n",
    "with open('medical_notes.txt') as file:\n",
    "    for line in file:\n",
    "        doc.append(line)\n",
    "df = pd.Series(doc)\n",
    "\n",
    "pd.set_option('display.max_colwidth', 90)\n",
    "pd.set_option('display.max_rows', 100)"
   ]
  },
  {
   "cell_type": "markdown",
   "metadata": {
    "collapsed": true
   },
   "source": [
    "### Sample of original data"
   ]
  },
  {
   "cell_type": "code",
   "execution_count": 87,
   "metadata": {},
   "outputs": [
    {
     "data": {
      "text/plain": [
       "171                                              04 Oct 1972 Total time of visit (in minutes):\\n\n",
       "72     Lithium 0.25 (7/11/77).  LFTS wnl.  Urine tox neg.  Serum tox + fluoxetine 500; otherw...\n",
       "378    The pt. is a 45 Y/O F who comes in to discuss her sexual problems-low libido.  Factors...\n",
       "24                                             07/25/1984 CPT Code: 90791: No medical services\\n\n",
       "455                                        sHemmorage caused by probe in 1984 Medical History:\\n\n",
       "269            passive SI only (most recent episode end of July 1992) If Yes, please describe:\\n\n",
       "2                                       sshe plans to move as of 7/8/71 In-Home Services: None\\n\n",
       "159    .The patient brought himself to APS on 26 May 2001 for ONE MONTH HISTORY of recurrence...\n",
       "177    22 year old single Caucasian/Latino woman, unemployed Cook recent college graduate, li...\n",
       "175     .On 21 Oct 1983 patient was discharged from Scroder Hospital after EIGHT DAY ADMISSION\\n\n",
       "dtype: object"
      ]
     },
     "execution_count": 87,
     "metadata": {},
     "output_type": "execute_result"
    }
   ],
   "source": [
    "import random\n",
    "sample = random.sample(range(1, 500), 10)\n",
    "df[sample]"
   ]
  },
  {
   "cell_type": "markdown",
   "metadata": {},
   "source": [
    "### Define regex patterns for date search in numerical format \n",
    "\n",
    "It prioritizes more correct and complete formats, if no date is found, it then will search alternative, less strict and incrementaly more inclusive formats"
   ]
  },
  {
   "cell_type": "code",
   "execution_count": 88,
   "metadata": {
    "collapsed": true
   },
   "outputs": [],
   "source": [
    "pattern0 = r'\\d{1,2}[-/]\\d{1,2}[/-]\\d{4}'\n",
    "pattern1 = r'\\d{1,2}[-/]\\d{1,2}[/-]\\d{2}'\n",
    "pattern2 = r'\\d{1,2}?[-/]?\\d{1,2}[/-]\\d{4}'\n",
    "pattern3 = r'\\d{0,2}[-/]?\\d{1,2}[/-]\\d{2,4}'\n",
    "\n",
    "num_patterns = pattern1, pattern2, pattern3"
   ]
  },
  {
   "cell_type": "markdown",
   "metadata": {},
   "source": [
    "### Initialize series of dates, then fill blanks step by step using numeric patterns"
   ]
  },
  {
   "cell_type": "code",
   "execution_count": 89,
   "metadata": {
    "collapsed": true
   },
   "outputs": [],
   "source": [
    "dates = df.str.findall(pattern0)\n",
    "\n",
    "for pat in num_patterns:\n",
    "  blank_idx = dates[dates.str.len() == 0].index\n",
    "  new_dates = df[blank_idx].str.findall(pat)\n",
    "  add_idx = new_dates[new_dates.str.len() > 0].index\n",
    "  dates[add_idx] = new_dates[add_idx]"
   ]
  },
  {
   "cell_type": "markdown",
   "metadata": {},
   "source": [
    "### Create month abbreviations string for regex"
   ]
  },
  {
   "cell_type": "code",
   "execution_count": 90,
   "metadata": {},
   "outputs": [
    {
     "name": "stdout",
     "output_type": "stream",
     "text": [
      "Jan|Feb|Mar|Apr|May|Jun|Jul|Aug|Sep|Oct|Nov|Dec\n"
     ]
    }
   ],
   "source": [
    "import calendar\n",
    "mo_nums = range(1,13) \n",
    "months = [calendar.month_abbr[x] for x in mo_nums]\n",
    "mo_str = '|'.join(str(mo) for mo in months)\n",
    "print(mo_str)"
   ]
  },
  {
   "cell_type": "markdown",
   "metadata": {},
   "source": [
    "### Find dates in alphanumeric format in the original data and create a new series\n",
    "Results from here will take precedent over numeric only formats"
   ]
  },
  {
   "cell_type": "code",
   "execution_count": 91,
   "metadata": {},
   "outputs": [],
   "source": [
    "pattern_alnum = (r'\\d{0,2}[.,]?\\s*(?:' + mo_str + ')[a-z]*,?.?\\s*\\d{0,2}.?,?\\s*\\d{2,4}')\n",
    "alnum_dates = df.str.findall(pattern_alnum)"
   ]
  },
  {
   "cell_type": "markdown",
   "metadata": {},
   "source": [
    "### Add series to dataframe, fill values from alphanumeric results, inspect unmatched instances"
   ]
  },
  {
   "cell_type": "code",
   "execution_count": 92,
   "metadata": {},
   "outputs": [
    {
     "data": {
      "text/plain": [
       "455                                        sHemmorage caused by probe in 1984 Medical History:\\n\n",
       "456    sHas been at MYH since his treaters in NE retired in 2000. Was seen in NE for 20 years...\n",
       "457    Pt joined Army reserves in 2001 and has 3 years left in this commitment.-Mental Status...\n",
       "458    one sister from whom he is estranged due to her opiate dependence, legal conflict over...\n",
       "459           sSince 1998. Prior medication trials (including efficacy, reasons discontinued):\\n\n",
       "Name: data, dtype: object"
      ]
     },
     "execution_count": 92,
     "metadata": {},
     "output_type": "execute_result"
    }
   ],
   "source": [
    "idx_alnum = alnum_dates.index[alnum_dates.str.len() > 0]\n",
    "df = pd.concat(dict(data = df, date = dates), axis=1)\n",
    "df['date'][idx_alnum] = alnum_dates[idx_alnum]\n",
    "idx_remain = df[df['date'].str.len() == 0].index\n",
    "df['data'][idx_remain].head()"
   ]
  },
  {
   "cell_type": "markdown",
   "metadata": {},
   "source": [
    "Remaining unmatched records contain dates that inlclude year only"
   ]
  },
  {
   "cell_type": "code",
   "execution_count": 93,
   "metadata": {
    "collapsed": true
   },
   "outputs": [],
   "source": [
    "pattern4 = r'\\d{4}'\n",
    "df['date'][idx_remain] = df['data'][idx_remain].str.findall(pattern4)"
   ]
  },
  {
   "cell_type": "markdown",
   "metadata": {},
   "source": [
    "### Initialize new date series to be cleaned and normalized\n",
    "Define patterns to be replaced/modified  \n",
    "Define replacements"
   ]
  },
  {
   "cell_type": "code",
   "execution_count": 94,
   "metadata": {
    "collapsed": true
   },
   "outputs": [],
   "source": [
    "df['fixed_date'] = [df['date'][i][0].strip().rstrip() for i in range(0,len(df))]\n",
    "\n",
    "pp1 = '/'\n",
    "pp2 = '(?<=-)(?=\\d{2}$)'\n",
    "pp3 = '(?=^\\d{1}-)'\n",
    "pp4 = '(?<=-)(?=\\d{1}-)'\n",
    "pp5 = '[^\\w-]'\n",
    "pp6 = '\\s+'\n",
    "pp7 = '^\\W'\n",
    "pp8 = '(?<=\\d)(?=[A-Z])'\n",
    "pp9 = '(?<=[A-Za-z]{3})[a-z]+'\n",
    "\n",
    "post_process = pp1, pp2, pp3, pp4, pp5, pp6, pp7, pp8, pp9\n",
    "repl = '-', '19', '0', '0', ' ', ' ', '', ' ', ''"
   ]
  },
  {
   "cell_type": "markdown",
   "metadata": {},
   "source": [
    "### Make defined corrections/replacements, tranform to datetime format"
   ]
  },
  {
   "cell_type": "code",
   "execution_count": 95,
   "metadata": {
    "collapsed": true
   },
   "outputs": [],
   "source": [
    "for i, pat in enumerate(post_process):\n",
    "  df['fixed_date'] = df['fixed_date'].str.replace(pat, repl[i])\n",
    "\n",
    "df['date_time'] = pd.to_datetime(df['fixed_date'])"
   ]
  },
  {
   "cell_type": "markdown",
   "metadata": {},
   "source": [
    "### Final dataframe contains original records and normalized dates in datetime format"
   ]
  },
  {
   "cell_type": "code",
   "execution_count": 96,
   "metadata": {},
   "outputs": [
    {
     "data": {
      "text/html": [
       "<div>\n",
       "<style>\n",
       "    .dataframe thead tr:only-child th {\n",
       "        text-align: right;\n",
       "    }\n",
       "\n",
       "    .dataframe thead th {\n",
       "        text-align: left;\n",
       "    }\n",
       "\n",
       "    .dataframe tbody tr th {\n",
       "        vertical-align: top;\n",
       "    }\n",
       "</style>\n",
       "<table border=\"1\" class=\"dataframe\">\n",
       "  <thead>\n",
       "    <tr style=\"text-align: right;\">\n",
       "      <th></th>\n",
       "      <th>data</th>\n",
       "      <th>date_time</th>\n",
       "    </tr>\n",
       "  </thead>\n",
       "  <tbody>\n",
       "    <tr>\n",
       "      <th>171</th>\n",
       "      <td>04 Oct 1972 Total time of visit (in minutes):\\n</td>\n",
       "      <td>1972-10-04</td>\n",
       "    </tr>\n",
       "    <tr>\n",
       "      <th>72</th>\n",
       "      <td>Lithium 0.25 (7/11/77).  LFTS wnl.  Urine tox neg.  Serum tox + fluoxetine 500; otherw...</td>\n",
       "      <td>1977-07-11</td>\n",
       "    </tr>\n",
       "    <tr>\n",
       "      <th>378</th>\n",
       "      <td>The pt. is a 45 Y/O F who comes in to discuss her sexual problems-low libido.  Factors...</td>\n",
       "      <td>1978-12-01</td>\n",
       "    </tr>\n",
       "    <tr>\n",
       "      <th>24</th>\n",
       "      <td>07/25/1984 CPT Code: 90791: No medical services\\n</td>\n",
       "      <td>1984-07-25</td>\n",
       "    </tr>\n",
       "    <tr>\n",
       "      <th>455</th>\n",
       "      <td>sHemmorage caused by probe in 1984 Medical History:\\n</td>\n",
       "      <td>1984-01-01</td>\n",
       "    </tr>\n",
       "    <tr>\n",
       "      <th>269</th>\n",
       "      <td>passive SI only (most recent episode end of July 1992) If Yes, please describe:\\n</td>\n",
       "      <td>1992-07-01</td>\n",
       "    </tr>\n",
       "    <tr>\n",
       "      <th>2</th>\n",
       "      <td>sshe plans to move as of 7/8/71 In-Home Services: None\\n</td>\n",
       "      <td>1971-07-08</td>\n",
       "    </tr>\n",
       "    <tr>\n",
       "      <th>159</th>\n",
       "      <td>.The patient brought himself to APS on 26 May 2001 for ONE MONTH HISTORY of recurrence...</td>\n",
       "      <td>2001-05-26</td>\n",
       "    </tr>\n",
       "    <tr>\n",
       "      <th>177</th>\n",
       "      <td>22 year old single Caucasian/Latino woman, unemployed Cook recent college graduate, li...</td>\n",
       "      <td>1990-01-18</td>\n",
       "    </tr>\n",
       "    <tr>\n",
       "      <th>175</th>\n",
       "      <td>.On 21 Oct 1983 patient was discharged from Scroder Hospital after EIGHT DAY ADMISSION\\n</td>\n",
       "      <td>1983-10-21</td>\n",
       "    </tr>\n",
       "  </tbody>\n",
       "</table>\n",
       "</div>"
      ],
      "text/plain": [
       "                                                                                          data  \\\n",
       "171                                            04 Oct 1972 Total time of visit (in minutes):\\n   \n",
       "72   Lithium 0.25 (7/11/77).  LFTS wnl.  Urine tox neg.  Serum tox + fluoxetine 500; otherw...   \n",
       "378  The pt. is a 45 Y/O F who comes in to discuss her sexual problems-low libido.  Factors...   \n",
       "24                                           07/25/1984 CPT Code: 90791: No medical services\\n   \n",
       "455                                      sHemmorage caused by probe in 1984 Medical History:\\n   \n",
       "269          passive SI only (most recent episode end of July 1992) If Yes, please describe:\\n   \n",
       "2                                     sshe plans to move as of 7/8/71 In-Home Services: None\\n   \n",
       "159  .The patient brought himself to APS on 26 May 2001 for ONE MONTH HISTORY of recurrence...   \n",
       "177  22 year old single Caucasian/Latino woman, unemployed Cook recent college graduate, li...   \n",
       "175   .On 21 Oct 1983 patient was discharged from Scroder Hospital after EIGHT DAY ADMISSION\\n   \n",
       "\n",
       "     date_time  \n",
       "171 1972-10-04  \n",
       "72  1977-07-11  \n",
       "378 1978-12-01  \n",
       "24  1984-07-25  \n",
       "455 1984-01-01  \n",
       "269 1992-07-01  \n",
       "2   1971-07-08  \n",
       "159 2001-05-26  \n",
       "177 1990-01-18  \n",
       "175 1983-10-21  "
      ]
     },
     "execution_count": 96,
     "metadata": {},
     "output_type": "execute_result"
    }
   ],
   "source": [
    "final_df = df[['data', 'date_time']]\n",
    "pd.set_option('display.max_colwidth', 90)\n",
    "final_df.iloc[sample]"
   ]
  }
 ],
 "metadata": {
  "coursera": {
   "course_slug": "python-text-mining",
   "graded_item_id": "LvcWI",
   "launcher_item_id": "krne9",
   "part_id": "Mkp1I"
  },
  "kernelspec": {
   "display_name": "Python 3",
   "language": "python",
   "name": "python3"
  },
  "language_info": {
   "codemirror_mode": {
    "name": "ipython",
    "version": 3
   },
   "file_extension": ".py",
   "mimetype": "text/x-python",
   "name": "python",
   "nbconvert_exporter": "python",
   "pygments_lexer": "ipython3",
   "version": "3.6.2"
  }
 },
 "nbformat": 4,
 "nbformat_minor": 2
}
